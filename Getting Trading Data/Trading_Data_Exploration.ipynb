{
  "nbformat": 4,
  "nbformat_minor": 0,
  "metadata": {
    "colab": {
      "name": "Trading Data Exploration.ipynb",
      "provenance": [],
      "collapsed_sections": [],
      "toc_visible": true
    },
    "kernelspec": {
      "name": "python3",
      "display_name": "Python 3"
    },
    "language_info": {
      "name": "python"
    }
  },
  "cells": [
    {
      "cell_type": "markdown",
      "metadata": {
        "id": "XYiKND9CFYR5"
      },
      "source": [
        "### Importing necessary libraries"
      ]
    },
    {
      "cell_type": "code",
      "metadata": {
        "id": "m0zO0wrOwYNd"
      },
      "source": [
        "import os\n",
        "import pandas as pd\n",
        "import fix_yahoo_finance as yf\n",
        "import matplotlib.pyplot as plt\n",
        "from pandas_datareader import data as pdr"
      ],
      "execution_count": null,
      "outputs": []
    },
    {
      "cell_type": "code",
      "metadata": {
        "id": "h_6tYsVUBGgM"
      },
      "source": [
        "%matplotlib inline"
      ],
      "execution_count": null,
      "outputs": []
    },
    {
      "cell_type": "code",
      "metadata": {
        "id": "-qbS-zYrwpGV"
      },
      "source": [
        "yf.pdr_override()"
      ],
      "execution_count": null,
      "outputs": []
    },
    {
      "cell_type": "markdown",
      "metadata": {
        "id": "KDdRfCFxFeN2"
      },
      "source": [
        "### Setting IEX_API_KEY Env. variable"
      ]
    },
    {
      "cell_type": "code",
      "metadata": {
        "id": "-WyIHZA3_K81"
      },
      "source": [
        "os.environ[\"IEX_API_KEY\"] = \"pk_3d9d9d1ef0fa4d468ed40272baf652ab\""
      ],
      "execution_count": null,
      "outputs": []
    },
    {
      "cell_type": "code",
      "metadata": {
        "id": "0KI2UJN3P__e"
      },
      "source": [
        "start_date = '2017-04-22'\n",
        "end_date = '2018-04-22'"
      ],
      "execution_count": null,
      "outputs": []
    },
    {
      "cell_type": "markdown",
      "metadata": {
        "id": "a53uJ6lqIO4X"
      },
      "source": [
        "## Importing data using pandas_datareader"
      ]
    },
    {
      "cell_type": "markdown",
      "metadata": {
        "id": "btQ4JToSIfy9"
      },
      "source": [
        "First you need to import data from <b>pandas_datareader</b> module. Here <b>data.get_data_yahoo</b> function is used to return the historical price of a stock's ticker, over a specifc time range.  "
      ]
    },
    {
      "cell_type": "code",
      "metadata": {
        "colab": {
          "base_uri": "https://localhost:8080/"
        },
        "id": "dfin1XkHxnox",
        "outputId": "0ee1bad1-3407-4819-c7f5-edb7c70bab14"
      },
      "source": [
        "# Note: Yahoo recently has become an unstable data source.\n",
        "# collect data for Google from 2017-04-22 to 2018-04-22\n",
        "df = pdr.get_data_yahoo('GOOG', start=start_date, end=end_date)"
      ],
      "execution_count": null,
      "outputs": [
        {
          "output_type": "stream",
          "text": [
            "[*********************100%***********************]  1 of 1 downloaded\n"
          ],
          "name": "stdout"
        }
      ]
    },
    {
      "cell_type": "code",
      "metadata": {
        "colab": {
          "base_uri": "https://localhost:8080/",
          "height": 266
        },
        "id": "OofmjcpayE7Q",
        "outputId": "38f80029-ecbb-420e-abc9-0d6db431f54d"
      },
      "source": [
        "df.head(n=6)"
      ],
      "execution_count": null,
      "outputs": [
        {
          "output_type": "execute_result",
          "data": {
            "text/html": [
              "<div>\n",
              "<style scoped>\n",
              "    .dataframe tbody tr th:only-of-type {\n",
              "        vertical-align: middle;\n",
              "    }\n",
              "\n",
              "    .dataframe tbody tr th {\n",
              "        vertical-align: top;\n",
              "    }\n",
              "\n",
              "    .dataframe thead th {\n",
              "        text-align: right;\n",
              "    }\n",
              "</style>\n",
              "<table border=\"1\" class=\"dataframe\">\n",
              "  <thead>\n",
              "    <tr style=\"text-align: right;\">\n",
              "      <th></th>\n",
              "      <th>Open</th>\n",
              "      <th>High</th>\n",
              "      <th>Low</th>\n",
              "      <th>Close</th>\n",
              "      <th>Adj Close</th>\n",
              "      <th>Volume</th>\n",
              "    </tr>\n",
              "    <tr>\n",
              "      <th>Date</th>\n",
              "      <th></th>\n",
              "      <th></th>\n",
              "      <th></th>\n",
              "      <th></th>\n",
              "      <th></th>\n",
              "      <th></th>\n",
              "    </tr>\n",
              "  </thead>\n",
              "  <tbody>\n",
              "    <tr>\n",
              "      <th>2017-04-24</th>\n",
              "      <td>851.200012</td>\n",
              "      <td>863.450012</td>\n",
              "      <td>849.859985</td>\n",
              "      <td>862.760010</td>\n",
              "      <td>862.760010</td>\n",
              "      <td>1372500</td>\n",
              "    </tr>\n",
              "    <tr>\n",
              "      <th>2017-04-25</th>\n",
              "      <td>865.000000</td>\n",
              "      <td>875.000000</td>\n",
              "      <td>862.809998</td>\n",
              "      <td>872.299988</td>\n",
              "      <td>872.299988</td>\n",
              "      <td>1672000</td>\n",
              "    </tr>\n",
              "    <tr>\n",
              "      <th>2017-04-26</th>\n",
              "      <td>874.229980</td>\n",
              "      <td>876.049988</td>\n",
              "      <td>867.747986</td>\n",
              "      <td>871.729980</td>\n",
              "      <td>871.729980</td>\n",
              "      <td>1237200</td>\n",
              "    </tr>\n",
              "    <tr>\n",
              "      <th>2017-04-27</th>\n",
              "      <td>873.599976</td>\n",
              "      <td>875.400024</td>\n",
              "      <td>870.380005</td>\n",
              "      <td>874.250000</td>\n",
              "      <td>874.250000</td>\n",
              "      <td>2026800</td>\n",
              "    </tr>\n",
              "    <tr>\n",
              "      <th>2017-04-28</th>\n",
              "      <td>910.659973</td>\n",
              "      <td>916.849976</td>\n",
              "      <td>905.770020</td>\n",
              "      <td>905.960022</td>\n",
              "      <td>905.960022</td>\n",
              "      <td>3276300</td>\n",
              "    </tr>\n",
              "    <tr>\n",
              "      <th>2017-05-01</th>\n",
              "      <td>901.940002</td>\n",
              "      <td>915.679993</td>\n",
              "      <td>901.450012</td>\n",
              "      <td>912.570007</td>\n",
              "      <td>912.570007</td>\n",
              "      <td>2116000</td>\n",
              "    </tr>\n",
              "  </tbody>\n",
              "</table>\n",
              "</div>"
            ],
            "text/plain": [
              "                  Open        High         Low       Close   Adj Close   Volume\n",
              "Date                                                                           \n",
              "2017-04-24  851.200012  863.450012  849.859985  862.760010  862.760010  1372500\n",
              "2017-04-25  865.000000  875.000000  862.809998  872.299988  872.299988  1672000\n",
              "2017-04-26  874.229980  876.049988  867.747986  871.729980  871.729980  1237200\n",
              "2017-04-27  873.599976  875.400024  870.380005  874.250000  874.250000  2026800\n",
              "2017-04-28  910.659973  916.849976  905.770020  905.960022  905.960022  3276300\n",
              "2017-05-01  901.940002  915.679993  901.450012  912.570007  912.570007  2116000"
            ]
          },
          "metadata": {
            "tags": []
          },
          "execution_count": 6
        }
      ]
    },
    {
      "cell_type": "code",
      "metadata": {
        "colab": {
          "base_uri": "https://localhost:8080/",
          "height": 277
        },
        "id": "wEaLYccWJU-E",
        "outputId": "bf23d1aa-ed19-429f-c256-4e9983cff0f7"
      },
      "source": [
        "df['Adj Close'].plot()\n",
        "plt.show()"
      ],
      "execution_count": null,
      "outputs": [
        {
          "output_type": "display_data",
          "data": {
            "image/png": "[encoded data removed]",
            "text/plain": [
              "<Figure size 432x288 with 1 Axes>"
            ]
          },
          "metadata": {
            "tags": [],
            "needs_background": "light"
          }
        }
      ]
    },
    {
      "cell_type": "markdown",
      "metadata": {
        "id": "augIvsU7HPUd"
      },
      "source": [
        "## Importing data from IEX using API"
      ]
    },
    {
      "cell_type": "code",
      "metadata": {
        "id": "uVrP4M1-yKzb"
      },
      "source": [
        "# collect data for Amazon from 2017-04-22 to 2018-04-22\n",
        "df1 = pdr.DataReader(name='AMZN', data_source='iex', start=start_date, end=end_date)"
      ],
      "execution_count": null,
      "outputs": []
    },
    {
      "cell_type": "code",
      "metadata": {
        "colab": {
          "base_uri": "https://localhost:8080/",
          "height": 235
        },
        "id": "xPPKuxM7zMdn",
        "outputId": "9dc0fd82-06b9-481e-f67f-6fdc95bc1a56"
      },
      "source": [
        "df1.head(n=6)"
      ],
      "execution_count": null,
      "outputs": [
        {
          "output_type": "execute_result",
          "data": {
            "text/html": [
              "<div>\n",
              "<style scoped>\n",
              "    .dataframe tbody tr th:only-of-type {\n",
              "        vertical-align: middle;\n",
              "    }\n",
              "\n",
              "    .dataframe tbody tr th {\n",
              "        vertical-align: top;\n",
              "    }\n",
              "\n",
              "    .dataframe thead th {\n",
              "        text-align: right;\n",
              "    }\n",
              "</style>\n",
              "<table border=\"1\" class=\"dataframe\">\n",
              "  <thead>\n",
              "    <tr style=\"text-align: right;\">\n",
              "      <th></th>\n",
              "      <th>date</th>\n",
              "      <th>open</th>\n",
              "      <th>high</th>\n",
              "      <th>low</th>\n",
              "      <th>close</th>\n",
              "      <th>volume</th>\n",
              "    </tr>\n",
              "  </thead>\n",
              "  <tbody>\n",
              "    <tr>\n",
              "      <th>0</th>\n",
              "      <td>2017-04-24</td>\n",
              "      <td>908.68</td>\n",
              "      <td>909.990</td>\n",
              "      <td>903.8200</td>\n",
              "      <td>907.41</td>\n",
              "      <td>3122893</td>\n",
              "    </tr>\n",
              "    <tr>\n",
              "      <th>1</th>\n",
              "      <td>2017-04-25</td>\n",
              "      <td>907.04</td>\n",
              "      <td>909.480</td>\n",
              "      <td>903.0000</td>\n",
              "      <td>907.62</td>\n",
              "      <td>3380639</td>\n",
              "    </tr>\n",
              "    <tr>\n",
              "      <th>2</th>\n",
              "      <td>2017-04-26</td>\n",
              "      <td>910.30</td>\n",
              "      <td>915.749</td>\n",
              "      <td>907.5600</td>\n",
              "      <td>909.29</td>\n",
              "      <td>2608948</td>\n",
              "    </tr>\n",
              "    <tr>\n",
              "      <th>3</th>\n",
              "      <td>2017-04-27</td>\n",
              "      <td>914.39</td>\n",
              "      <td>921.860</td>\n",
              "      <td>912.1100</td>\n",
              "      <td>918.38</td>\n",
              "      <td>5305543</td>\n",
              "    </tr>\n",
              "    <tr>\n",
              "      <th>4</th>\n",
              "      <td>2017-04-28</td>\n",
              "      <td>948.83</td>\n",
              "      <td>949.590</td>\n",
              "      <td>924.3335</td>\n",
              "      <td>924.99</td>\n",
              "      <td>7364681</td>\n",
              "    </tr>\n",
              "    <tr>\n",
              "      <th>5</th>\n",
              "      <td>2017-05-01</td>\n",
              "      <td>927.80</td>\n",
              "      <td>954.400</td>\n",
              "      <td>927.8000</td>\n",
              "      <td>948.23</td>\n",
              "      <td>5466544</td>\n",
              "    </tr>\n",
              "  </tbody>\n",
              "</table>\n",
              "</div>"
            ],
            "text/plain": [
              "         date    open     high       low   close   volume\n",
              "0  2017-04-24  908.68  909.990  903.8200  907.41  3122893\n",
              "1  2017-04-25  907.04  909.480  903.0000  907.62  3380639\n",
              "2  2017-04-26  910.30  915.749  907.5600  909.29  2608948\n",
              "3  2017-04-27  914.39  921.860  912.1100  918.38  5305543\n",
              "4  2017-04-28  948.83  949.590  924.3335  924.99  7364681\n",
              "5  2017-05-01  927.80  954.400  927.8000  948.23  5466544"
            ]
          },
          "metadata": {
            "tags": []
          },
          "execution_count": 11
        }
      ]
    },
    {
      "cell_type": "code",
      "metadata": {
        "id": "qyfpanFB_1wZ"
      },
      "source": [
        "symbol = 'AMZN'\n",
        "df1.to_csv(\"{}.csv\".format(symbol))"
      ],
      "execution_count": null,
      "outputs": []
    },
    {
      "cell_type": "markdown",
      "metadata": {
        "id": "omhct0HIFQ3q"
      },
      "source": [
        "### Visualizing collected OHLCV Data of 'AMZN'"
      ]
    },
    {
      "cell_type": "code",
      "metadata": {
        "colab": {
          "base_uri": "https://localhost:8080/",
          "height": 295
        },
        "id": "nZiifHLyFQhl",
        "outputId": "34a01aa1-fbd9-414c-97de-60f53c29d710"
      },
      "source": [
        "# select only close column\n",
        "close = df1[['close']]\n",
        "# rename the column with symbole name\n",
        "close = close.rename(columns={'close': symbol})\n",
        "ax = close.plot(title='Amazon')\n",
        "ax.set_xlabel('date')\n",
        "ax.set_ylabel('close price')\n",
        "ax.grid()\n",
        "plt.show()"
      ],
      "execution_count": null,
      "outputs": [
        {
          "output_type": "display_data",
          "data": {
            "image/png": "[encoded data removed]",
            "text/plain": [
              "<Figure size 432x288 with 1 Axes>"
            ]
          },
          "metadata": {
            "tags": [],
            "needs_background": "light"
          }
        }
      ]
    },
    {
      "cell_type": "markdown",
      "metadata": {
        "id": "YPFaaU80HU9K"
      },
      "source": [
        "## Importing data from Yahoo finance"
      ]
    },
    {
      "cell_type": "markdown",
      "metadata": {
        "id": "6x5-lnHYHf0y"
      },
      "source": [
        "To fetch data from Yahoo finance, you need to first pip install yfinance. The 'pip' command is a tool for installing and managing Python packages."
      ]
    },
    {
      "cell_type": "code",
      "metadata": {
        "colab": {
          "base_uri": "https://localhost:8080/"
        },
        "id": "JjKgNa7_HeGc",
        "outputId": "18a27cb5-d4f4-4ea8-938a-4cc5977ab7aa"
      },
      "source": [
        "!pip install yfinance"
      ],
      "execution_count": null,
      "outputs": [
        {
          "output_type": "stream",
          "text": [
            "Requirement already satisfied: yfinance in /usr/local/lib/python3.7/dist-packages (0.1.59)\n",
            "Requirement already satisfied: lxml>=4.5.1 in /usr/local/lib/python3.7/dist-packages (from yfinance) (4.6.3)\n",
            "Requirement already satisfied: numpy>=1.15 in /usr/local/lib/python3.7/dist-packages (from yfinance) (1.19.5)\n",
            "Requirement already satisfied: multitasking>=0.0.7 in /usr/local/lib/python3.7/dist-packages (from yfinance) (0.0.9)\n",
            "Requirement already satisfied: pandas>=0.24 in /usr/local/lib/python3.7/dist-packages (from yfinance) (1.1.5)\n",
            "Requirement already satisfied: requests>=2.20 in /usr/local/lib/python3.7/dist-packages (from yfinance) (2.23.0)\n",
            "Requirement already satisfied: pytz>=2017.2 in /usr/local/lib/python3.7/dist-packages (from pandas>=0.24->yfinance) (2018.9)\n",
            "Requirement already satisfied: python-dateutil>=2.7.3 in /usr/local/lib/python3.7/dist-packages (from pandas>=0.24->yfinance) (2.8.1)\n",
            "Requirement already satisfied: idna<3,>=2.5 in /usr/local/lib/python3.7/dist-packages (from requests>=2.20->yfinance) (2.10)\n",
            "Requirement already satisfied: certifi>=2017.4.17 in /usr/local/lib/python3.7/dist-packages (from requests>=2.20->yfinance) (2020.12.5)\n",
            "Requirement already satisfied: urllib3!=1.25.0,!=1.25.1,<1.26,>=1.21.1 in /usr/local/lib/python3.7/dist-packages (from requests>=2.20->yfinance) (1.24.3)\n",
            "Requirement already satisfied: chardet<4,>=3.0.2 in /usr/local/lib/python3.7/dist-packages (from requests>=2.20->yfinance) (3.0.4)\n",
            "Requirement already satisfied: six>=1.5 in /usr/local/lib/python3.7/dist-packages (from python-dateutil>=2.7.3->pandas>=0.24->yfinance) (1.15.0)\n"
          ],
          "name": "stdout"
        }
      ]
    },
    {
      "cell_type": "markdown",
      "metadata": {
        "id": "5gwqIUUyHwwV"
      },
      "source": [
        "###You can fetch data from Yahoo finance using download method."
      ]
    },
    {
      "cell_type": "code",
      "metadata": {
        "colab": {
          "base_uri": "https://localhost:8080/",
          "height": 252
        },
        "id": "Dq8pIZ4LADFE",
        "outputId": "ad630990-a8e9-4315-c527-732cebc3aef1"
      },
      "source": [
        "import yfinance as yf\n",
        "df2 = yf.download('AAPL', start=start_date, end=end_date)\n",
        "df2.head()"
      ],
      "execution_count": null,
      "outputs": [
        {
          "output_type": "stream",
          "text": [
            "\r[*********************100%***********************]  1 of 1 completed\n"
          ],
          "name": "stdout"
        },
        {
          "output_type": "execute_result",
          "data": {
            "text/html": [
              "<div>\n",
              "<style scoped>\n",
              "    .dataframe tbody tr th:only-of-type {\n",
              "        vertical-align: middle;\n",
              "    }\n",
              "\n",
              "    .dataframe tbody tr th {\n",
              "        vertical-align: top;\n",
              "    }\n",
              "\n",
              "    .dataframe thead th {\n",
              "        text-align: right;\n",
              "    }\n",
              "</style>\n",
              "<table border=\"1\" class=\"dataframe\">\n",
              "  <thead>\n",
              "    <tr style=\"text-align: right;\">\n",
              "      <th></th>\n",
              "      <th>Open</th>\n",
              "      <th>High</th>\n",
              "      <th>Low</th>\n",
              "      <th>Close</th>\n",
              "      <th>Adj Close</th>\n",
              "      <th>Volume</th>\n",
              "    </tr>\n",
              "    <tr>\n",
              "      <th>Date</th>\n",
              "      <th></th>\n",
              "      <th></th>\n",
              "      <th></th>\n",
              "      <th></th>\n",
              "      <th></th>\n",
              "      <th></th>\n",
              "    </tr>\n",
              "  </thead>\n",
              "  <tbody>\n",
              "    <tr>\n",
              "      <th>2017-04-24</th>\n",
              "      <td>35.875000</td>\n",
              "      <td>35.987499</td>\n",
              "      <td>35.794998</td>\n",
              "      <td>35.910000</td>\n",
              "      <td>34.048462</td>\n",
              "      <td>68537200</td>\n",
              "    </tr>\n",
              "    <tr>\n",
              "      <th>2017-04-25</th>\n",
              "      <td>35.977501</td>\n",
              "      <td>36.224998</td>\n",
              "      <td>35.967499</td>\n",
              "      <td>36.132500</td>\n",
              "      <td>34.259430</td>\n",
              "      <td>75486000</td>\n",
              "    </tr>\n",
              "    <tr>\n",
              "      <th>2017-04-26</th>\n",
              "      <td>36.117500</td>\n",
              "      <td>36.150002</td>\n",
              "      <td>35.845001</td>\n",
              "      <td>35.919998</td>\n",
              "      <td>34.057938</td>\n",
              "      <td>80164800</td>\n",
              "    </tr>\n",
              "    <tr>\n",
              "      <th>2017-04-27</th>\n",
              "      <td>35.980000</td>\n",
              "      <td>36.040001</td>\n",
              "      <td>35.827499</td>\n",
              "      <td>35.947498</td>\n",
              "      <td>34.084007</td>\n",
              "      <td>56985200</td>\n",
              "    </tr>\n",
              "    <tr>\n",
              "      <th>2017-04-28</th>\n",
              "      <td>36.022499</td>\n",
              "      <td>36.075001</td>\n",
              "      <td>35.817501</td>\n",
              "      <td>35.912498</td>\n",
              "      <td>34.050831</td>\n",
              "      <td>83441600</td>\n",
              "    </tr>\n",
              "  </tbody>\n",
              "</table>\n",
              "</div>"
            ],
            "text/plain": [
              "                 Open       High        Low      Close  Adj Close    Volume\n",
              "Date                                                                       \n",
              "2017-04-24  35.875000  35.987499  35.794998  35.910000  34.048462  68537200\n",
              "2017-04-25  35.977501  36.224998  35.967499  36.132500  34.259430  75486000\n",
              "2017-04-26  36.117500  36.150002  35.845001  35.919998  34.057938  80164800\n",
              "2017-04-27  35.980000  36.040001  35.827499  35.947498  34.084007  56985200\n",
              "2017-04-28  36.022499  36.075001  35.817501  35.912498  34.050831  83441600"
            ]
          },
          "metadata": {
            "tags": []
          },
          "execution_count": 15
        }
      ]
    },
    {
      "cell_type": "markdown",
      "metadata": {
        "id": "ztXCEkqKH68v"
      },
      "source": [
        "## Importing data from Quandl"
      ]
    },
    {
      "cell_type": "markdown",
      "metadata": {
        "id": "D_Pp0foPIDs9"
      },
      "source": [
        "To fetch data from Quandl, first import quandl. Here, <b>quandl.get</b> function is used to fetch data for a security over a specific time period."
      ]
    },
    {
      "cell_type": "code",
      "metadata": {
        "colab": {
          "base_uri": "https://localhost:8080/"
        },
        "id": "3b_k7wwlNu19",
        "outputId": "84478fbe-044f-408d-d018-fd5b42332a5f"
      },
      "source": [
        "!pip3 install quandl"
      ],
      "execution_count": null,
      "outputs": [
        {
          "output_type": "stream",
          "text": [
            "Requirement already satisfied: quandl in /usr/local/lib/python3.7/dist-packages (3.6.1)\n",
            "Requirement already satisfied: numpy>=1.8 in /usr/local/lib/python3.7/dist-packages (from quandl) (1.19.5)\n",
            "Requirement already satisfied: requests>=2.7.0 in /usr/local/lib/python3.7/dist-packages (from quandl) (2.23.0)\n",
            "Requirement already satisfied: more-itertools in /usr/local/lib/python3.7/dist-packages (from quandl) (8.7.0)\n",
            "Requirement already satisfied: python-dateutil in /usr/local/lib/python3.7/dist-packages (from quandl) (2.8.1)\n",
            "Requirement already satisfied: six in /usr/local/lib/python3.7/dist-packages (from quandl) (1.15.0)\n",
            "Requirement already satisfied: inflection>=0.3.1 in /usr/local/lib/python3.7/dist-packages (from quandl) (0.5.1)\n",
            "Requirement already satisfied: pandas>=0.14 in /usr/local/lib/python3.7/dist-packages (from quandl) (1.1.5)\n",
            "Requirement already satisfied: certifi>=2017.4.17 in /usr/local/lib/python3.7/dist-packages (from requests>=2.7.0->quandl) (2020.12.5)\n",
            "Requirement already satisfied: idna<3,>=2.5 in /usr/local/lib/python3.7/dist-packages (from requests>=2.7.0->quandl) (2.10)\n",
            "Requirement already satisfied: chardet<4,>=3.0.2 in /usr/local/lib/python3.7/dist-packages (from requests>=2.7.0->quandl) (3.0.4)\n",
            "Requirement already satisfied: urllib3!=1.25.0,!=1.25.1,<1.26,>=1.21.1 in /usr/local/lib/python3.7/dist-packages (from requests>=2.7.0->quandl) (1.24.3)\n",
            "Requirement already satisfied: pytz>=2017.2 in /usr/local/lib/python3.7/dist-packages (from pandas>=0.14->quandl) (2018.9)\n"
          ],
          "name": "stdout"
        }
      ]
    },
    {
      "cell_type": "code",
      "metadata": {
        "colab": {
          "base_uri": "https://localhost:8080/",
          "height": 340
        },
        "id": "HXrIBhaeHaVd",
        "outputId": "382535af-a475-420c-c1a0-eeb0286a9000"
      },
      "source": [
        "import quandl\n",
        "from datetime import datetime\n",
        "\n",
        "# quantrautil is a module specific to Quantra to fetch stock data\n",
        "# from quantrautil import get_quantinsti_api_key\n",
        "api_key = 'ABiZHARd3wJ6r7xtnWD2'\n",
        "\n",
        "df3 = quandl.get('EOD/AAPL', start_date=start_date,\n",
        "                  end_date=end_date, api_key=api_key)\n",
        "\n",
        "# Note that you need to know the \"Quandl code\" of each dataset you download. In the above example, it is 'EOD/AAPL'.\n",
        "# To get your personal API key, sign up for a free Quandl account. Then, you can find your API key on Quandl account settings page.\n",
        "\n",
        "df3.head()"
      ],
      "execution_count": null,
      "outputs": [
        {
          "output_type": "execute_result",
          "data": {
            "text/html": [
              "<div>\n",
              "<style scoped>\n",
              "    .dataframe tbody tr th:only-of-type {\n",
              "        vertical-align: middle;\n",
              "    }\n",
              "\n",
              "    .dataframe tbody tr th {\n",
              "        vertical-align: top;\n",
              "    }\n",
              "\n",
              "    .dataframe thead th {\n",
              "        text-align: right;\n",
              "    }\n",
              "</style>\n",
              "<table border=\"1\" class=\"dataframe\">\n",
              "  <thead>\n",
              "    <tr style=\"text-align: right;\">\n",
              "      <th></th>\n",
              "      <th>Open</th>\n",
              "      <th>High</th>\n",
              "      <th>Low</th>\n",
              "      <th>Close</th>\n",
              "      <th>Volume</th>\n",
              "      <th>Dividend</th>\n",
              "      <th>Split</th>\n",
              "      <th>Adj_Open</th>\n",
              "      <th>Adj_High</th>\n",
              "      <th>Adj_Low</th>\n",
              "      <th>Adj_Close</th>\n",
              "      <th>Adj_Volume</th>\n",
              "    </tr>\n",
              "    <tr>\n",
              "      <th>Date</th>\n",
              "      <th></th>\n",
              "      <th></th>\n",
              "      <th></th>\n",
              "      <th></th>\n",
              "      <th></th>\n",
              "      <th></th>\n",
              "      <th></th>\n",
              "      <th></th>\n",
              "      <th></th>\n",
              "      <th></th>\n",
              "      <th></th>\n",
              "      <th></th>\n",
              "    </tr>\n",
              "  </thead>\n",
              "  <tbody>\n",
              "    <tr>\n",
              "      <th>2017-04-24</th>\n",
              "      <td>143.5000</td>\n",
              "      <td>143.95</td>\n",
              "      <td>143.1800</td>\n",
              "      <td>143.64</td>\n",
              "      <td>17116599.0</td>\n",
              "      <td>0.0</td>\n",
              "      <td>1.0</td>\n",
              "      <td>34.010204</td>\n",
              "      <td>34.116857</td>\n",
              "      <td>33.934363</td>\n",
              "      <td>34.043385</td>\n",
              "      <td>68466396.0</td>\n",
              "    </tr>\n",
              "    <tr>\n",
              "      <th>2017-04-25</th>\n",
              "      <td>143.9100</td>\n",
              "      <td>144.90</td>\n",
              "      <td>143.8700</td>\n",
              "      <td>144.53</td>\n",
              "      <td>18871501.0</td>\n",
              "      <td>0.0</td>\n",
              "      <td>1.0</td>\n",
              "      <td>34.107376</td>\n",
              "      <td>34.342011</td>\n",
              "      <td>34.097896</td>\n",
              "      <td>34.254319</td>\n",
              "      <td>75486004.0</td>\n",
              "    </tr>\n",
              "    <tr>\n",
              "      <th>2017-04-26</th>\n",
              "      <td>144.4700</td>\n",
              "      <td>144.60</td>\n",
              "      <td>143.3762</td>\n",
              "      <td>143.68</td>\n",
              "      <td>20041241.0</td>\n",
              "      <td>0.0</td>\n",
              "      <td>1.0</td>\n",
              "      <td>34.240099</td>\n",
              "      <td>34.270910</td>\n",
              "      <td>33.980863</td>\n",
              "      <td>34.052865</td>\n",
              "      <td>80164964.0</td>\n",
              "    </tr>\n",
              "    <tr>\n",
              "      <th>2017-04-27</th>\n",
              "      <td>143.9225</td>\n",
              "      <td>144.16</td>\n",
              "      <td>143.3100</td>\n",
              "      <td>143.79</td>\n",
              "      <td>14246347.0</td>\n",
              "      <td>0.0</td>\n",
              "      <td>1.0</td>\n",
              "      <td>34.110339</td>\n",
              "      <td>34.166628</td>\n",
              "      <td>33.965174</td>\n",
              "      <td>34.078936</td>\n",
              "      <td>56985388.0</td>\n",
              "    </tr>\n",
              "    <tr>\n",
              "      <th>2017-04-28</th>\n",
              "      <td>144.0900</td>\n",
              "      <td>144.30</td>\n",
              "      <td>143.2700</td>\n",
              "      <td>143.65</td>\n",
              "      <td>20860358.0</td>\n",
              "      <td>0.0</td>\n",
              "      <td>1.0</td>\n",
              "      <td>34.150037</td>\n",
              "      <td>34.199808</td>\n",
              "      <td>33.955693</td>\n",
              "      <td>34.045755</td>\n",
              "      <td>83441432.0</td>\n",
              "    </tr>\n",
              "  </tbody>\n",
              "</table>\n",
              "</div>"
            ],
            "text/plain": [
              "                Open    High       Low  ...    Adj_Low  Adj_Close  Adj_Volume\n",
              "Date                                    ...                                  \n",
              "2017-04-24  143.5000  143.95  143.1800  ...  33.934363  34.043385  68466396.0\n",
              "2017-04-25  143.9100  144.90  143.8700  ...  34.097896  34.254319  75486004.0\n",
              "2017-04-26  144.4700  144.60  143.3762  ...  33.980863  34.052865  80164964.0\n",
              "2017-04-27  143.9225  144.16  143.3100  ...  33.965174  34.078936  56985388.0\n",
              "2017-04-28  144.0900  144.30  143.2700  ...  33.955693  34.045755  83441432.0\n",
              "\n",
              "[5 rows x 12 columns]"
            ]
          },
          "metadata": {
            "tags": []
          },
          "execution_count": 17
        }
      ]
    },
    {
      "cell_type": "code",
      "metadata": {
        "id": "FhubndrWPJdI"
      },
      "source": [
        "ticker = 'AMZN' # same as symbol"
      ],
      "execution_count": null,
      "outputs": []
    },
    {
      "cell_type": "code",
      "metadata": {
        "colab": {
          "base_uri": "https://localhost:8080/",
          "height": 446
        },
        "id": "cpqAEE01JhcM",
        "outputId": "1ad125cb-f14a-4a98-dbd7-97a2b1842930"
      },
      "source": [
        "# Define the figure size for the plot\n",
        "plt.figure(figsize=(10, 7))\n",
        "# Plot the adjusted close price\n",
        "df3['Adj_Close'].plot()\n",
        "# Define the label for the title of the figure\n",
        "plt.title(\"Adjusted Close Price of %s\" % ticker, fontsize=16)\n",
        "# Define the labels for x-axis and y-axis\n",
        "plt.ylabel('Price', fontsize=14)\n",
        "plt.xlabel('Year', fontsize=14)\n",
        "# Plot the grid lines\n",
        "plt.grid(which=\"major\", color='k', linestyle='-.', linewidth=0.5)\n",
        "plt.show()"
      ],
      "execution_count": null,
      "outputs": [
        {
          "output_type": "display_data",
          "data": {
            "image/png": "[encoded data removed]",
            "text/plain": [
              "<Figure size 720x504 with 1 Axes>"
            ]
          },
          "metadata": {
            "tags": [],
            "needs_background": "light"
          }
        }
      ]
    },
    {
      "cell_type": "markdown",
      "metadata": {
        "id": "RvVypobGPdGy"
      },
      "source": [
        "### Get stock market data for multiple tickers"
      ]
    },
    {
      "cell_type": "markdown",
      "metadata": {
        "id": "xEfiQIOMPl_j"
      },
      "source": [
        "#### To get the stock market data of multiple stock tickers, you can create a list of tickers and call the quandl get method for each stock ticker."
      ]
    },
    {
      "cell_type": "code",
      "metadata": {
        "colab": {
          "base_uri": "https://localhost:8080/",
          "height": 235
        },
        "id": "XkH-2hfLPRe7",
        "outputId": "d4b42a86-4798-4ccb-b6be-a423fd59fca2"
      },
      "source": [
        "tickers_list = ['AAPL', 'IBM', 'MSFT', 'WMT']\n",
        "df4 = pd.DataFrame(columns=tickers_list)\n",
        "# Fetch the data\n",
        "for ticker in tickers_list:\n",
        " df4[ticker] = quandl.get('WIKI/' + ticker, start_date=start_date,\n",
        " end_date=end_date, api_key=api_key)['Adj. Close']\n",
        "# Print first 5 rows of the data\n",
        "df4.head()"
      ],
      "execution_count": null,
      "outputs": [
        {
          "output_type": "execute_result",
          "data": {
            "text/html": [
              "<div>\n",
              "<style scoped>\n",
              "    .dataframe tbody tr th:only-of-type {\n",
              "        vertical-align: middle;\n",
              "    }\n",
              "\n",
              "    .dataframe tbody tr th {\n",
              "        vertical-align: top;\n",
              "    }\n",
              "\n",
              "    .dataframe thead th {\n",
              "        text-align: right;\n",
              "    }\n",
              "</style>\n",
              "<table border=\"1\" class=\"dataframe\">\n",
              "  <thead>\n",
              "    <tr style=\"text-align: right;\">\n",
              "      <th></th>\n",
              "      <th>AAPL</th>\n",
              "      <th>IBM</th>\n",
              "      <th>MSFT</th>\n",
              "      <th>WMT</th>\n",
              "    </tr>\n",
              "    <tr>\n",
              "      <th>Date</th>\n",
              "      <th></th>\n",
              "      <th></th>\n",
              "      <th></th>\n",
              "      <th></th>\n",
              "    </tr>\n",
              "  </thead>\n",
              "  <tbody>\n",
              "    <tr>\n",
              "      <th>2017-04-24</th>\n",
              "      <td>142.476496</td>\n",
              "      <td>155.970305</td>\n",
              "      <td>66.460508</td>\n",
              "      <td>73.824703</td>\n",
              "    </tr>\n",
              "    <tr>\n",
              "      <th>2017-04-25</th>\n",
              "      <td>143.369205</td>\n",
              "      <td>155.621009</td>\n",
              "      <td>66.844332</td>\n",
              "      <td>74.091254</td>\n",
              "    </tr>\n",
              "    <tr>\n",
              "      <th>2017-04-26</th>\n",
              "      <td>142.487208</td>\n",
              "      <td>155.300821</td>\n",
              "      <td>66.755757</td>\n",
              "      <td>74.466400</td>\n",
              "    </tr>\n",
              "    <tr>\n",
              "      <th>2017-04-27</th>\n",
              "      <td>142.625281</td>\n",
              "      <td>155.553091</td>\n",
              "      <td>67.188789</td>\n",
              "      <td>74.476272</td>\n",
              "    </tr>\n",
              "    <tr>\n",
              "      <th>2017-04-28</th>\n",
              "      <td>142.486415</td>\n",
              "      <td>155.523983</td>\n",
              "      <td>67.375780</td>\n",
              "      <td>74.219593</td>\n",
              "    </tr>\n",
              "  </tbody>\n",
              "</table>\n",
              "</div>"
            ],
            "text/plain": [
              "                  AAPL         IBM       MSFT        WMT\n",
              "Date                                                    \n",
              "2017-04-24  142.476496  155.970305  66.460508  73.824703\n",
              "2017-04-25  143.369205  155.621009  66.844332  74.091254\n",
              "2017-04-26  142.487208  155.300821  66.755757  74.466400\n",
              "2017-04-27  142.625281  155.553091  67.188789  74.476272\n",
              "2017-04-28  142.486415  155.523983  67.375780  74.219593"
            ]
          },
          "metadata": {
            "tags": []
          },
          "execution_count": 20
        }
      ]
    },
    {
      "cell_type": "code",
      "metadata": {
        "colab": {
          "base_uri": "https://localhost:8080/",
          "height": 446
        },
        "id": "Zuz9JaM0P5eP",
        "outputId": "93fcbfc5-d69e-44b0-c775-e5eda928ee84"
      },
      "source": [
        "# Plot all the close prices\n",
        "df4.plot(figsize=(10, 7))\n",
        "# Show the legend\n",
        "plt.legend()\n",
        "# Define the label for the title of the figure\n",
        "plt.title(\"Adjusted Close Price\", fontsize=16)\n",
        "# Define the labels for x-axis and y-axis\n",
        "plt.ylabel('Price', fontsize=14)\n",
        "plt.xlabel('Year', fontsize=14)\n",
        "# Plot the grid lines\n",
        "plt.grid(which=\"major\", color='k', linestyle='-.', linewidth=0.5)\n",
        "plt.show()"
      ],
      "execution_count": null,
      "outputs": [
        {
          "output_type": "display_data",
          "data": {
            "image/png": "[encoded data removed]",
            "text/plain": [
              "<Figure size 720x504 with 1 Axes>"
            ]
          },
          "metadata": {
            "tags": [],
            "needs_background": "light"
          }
        }
      ]
    },
    {
      "cell_type": "markdown",
      "metadata": {
        "id": "eBSzd82YoAWC"
      },
      "source": [
        "## Plotting candlesticks interactive graph for data frame 2 (df2)"
      ]
    },
    {
      "cell_type": "code",
      "metadata": {
        "id": "TcDKA9kak6BK"
      },
      "source": [
        "# Importing the necessary packages\n",
        "from bokeh.plotting import figure, show, output_file"
      ],
      "execution_count": null,
      "outputs": []
    },
    {
      "cell_type": "code",
      "metadata": {
        "id": "hVnc_jmooW8e"
      },
      "source": [
        "# Indexing\n",
        "w = 12*60*60*1000  # half day in ms\n",
        "df2.index = pd.to_datetime(df2.index)"
      ],
      "execution_count": null,
      "outputs": []
    },
    {
      "cell_type": "code",
      "metadata": {
        "colab": {
          "base_uri": "https://localhost:8080/",
          "height": 235
        },
        "id": "NQzBMB4gouuf",
        "outputId": "a030932c-0e48-400b-ac87-9d098a01777b"
      },
      "source": [
        "df2.head()"
      ],
      "execution_count": null,
      "outputs": [
        {
          "output_type": "execute_result",
          "data": {
            "text/html": [
              "<div>\n",
              "<style scoped>\n",
              "    .dataframe tbody tr th:only-of-type {\n",
              "        vertical-align: middle;\n",
              "    }\n",
              "\n",
              "    .dataframe tbody tr th {\n",
              "        vertical-align: top;\n",
              "    }\n",
              "\n",
              "    .dataframe thead th {\n",
              "        text-align: right;\n",
              "    }\n",
              "</style>\n",
              "<table border=\"1\" class=\"dataframe\">\n",
              "  <thead>\n",
              "    <tr style=\"text-align: right;\">\n",
              "      <th></th>\n",
              "      <th>Open</th>\n",
              "      <th>High</th>\n",
              "      <th>Low</th>\n",
              "      <th>Close</th>\n",
              "      <th>Adj Close</th>\n",
              "      <th>Volume</th>\n",
              "    </tr>\n",
              "    <tr>\n",
              "      <th>Date</th>\n",
              "      <th></th>\n",
              "      <th></th>\n",
              "      <th></th>\n",
              "      <th></th>\n",
              "      <th></th>\n",
              "      <th></th>\n",
              "    </tr>\n",
              "  </thead>\n",
              "  <tbody>\n",
              "    <tr>\n",
              "      <th>2017-04-24</th>\n",
              "      <td>35.875000</td>\n",
              "      <td>35.987499</td>\n",
              "      <td>35.794998</td>\n",
              "      <td>35.910000</td>\n",
              "      <td>34.048462</td>\n",
              "      <td>68537200</td>\n",
              "    </tr>\n",
              "    <tr>\n",
              "      <th>2017-04-25</th>\n",
              "      <td>35.977501</td>\n",
              "      <td>36.224998</td>\n",
              "      <td>35.967499</td>\n",
              "      <td>36.132500</td>\n",
              "      <td>34.259430</td>\n",
              "      <td>75486000</td>\n",
              "    </tr>\n",
              "    <tr>\n",
              "      <th>2017-04-26</th>\n",
              "      <td>36.117500</td>\n",
              "      <td>36.150002</td>\n",
              "      <td>35.845001</td>\n",
              "      <td>35.919998</td>\n",
              "      <td>34.057938</td>\n",
              "      <td>80164800</td>\n",
              "    </tr>\n",
              "    <tr>\n",
              "      <th>2017-04-27</th>\n",
              "      <td>35.980000</td>\n",
              "      <td>36.040001</td>\n",
              "      <td>35.827499</td>\n",
              "      <td>35.947498</td>\n",
              "      <td>34.084007</td>\n",
              "      <td>56985200</td>\n",
              "    </tr>\n",
              "    <tr>\n",
              "      <th>2017-04-28</th>\n",
              "      <td>36.022499</td>\n",
              "      <td>36.075001</td>\n",
              "      <td>35.817501</td>\n",
              "      <td>35.912498</td>\n",
              "      <td>34.050831</td>\n",
              "      <td>83441600</td>\n",
              "    </tr>\n",
              "  </tbody>\n",
              "</table>\n",
              "</div>"
            ],
            "text/plain": [
              "                 Open       High        Low      Close  Adj Close    Volume\n",
              "Date                                                                       \n",
              "2017-04-24  35.875000  35.987499  35.794998  35.910000  34.048462  68537200\n",
              "2017-04-25  35.977501  36.224998  35.967499  36.132500  34.259430  75486000\n",
              "2017-04-26  36.117500  36.150002  35.845001  35.919998  34.057938  80164800\n",
              "2017-04-27  35.980000  36.040001  35.827499  35.947498  34.084007  56985200\n",
              "2017-04-28  36.022499  36.075001  35.817501  35.912498  34.050831  83441600"
            ]
          },
          "metadata": {
            "tags": []
          },
          "execution_count": 29
        }
      ]
    },
    {
      "cell_type": "markdown",
      "metadata": {
        "id": "s5IlJh31o4YE"
      },
      "source": [
        "### Remember:\n",
        "\n",
        "1. If the opening price is less than the closing price then a green candlestick is to be created to represent the day. \n",
        "2. If the opening price is greater than the closing price then a red candlestick is to be created to represent the day.\n",
        "1. We will use 'inc' and 'dec' as the variable to capture these two patterns in the code."
      ]
    },
    {
      "cell_type": "code",
      "metadata": {
        "id": "TBPn7stPo3Bb"
      },
      "source": [
        "inc = df.Close > df.Open\n",
        "dec = df.Open > df.Close"
      ],
      "execution_count": null,
      "outputs": []
    },
    {
      "cell_type": "code",
      "metadata": {
        "id": "HloZgE7TpCjK"
      },
      "source": [
        "# The various 'interactions' we want in our candlestick graph. This is an argument to be passed in figure () from bokeh.plotting\n",
        "TOOLS = \"pan,wheel_zoom,box_zoom,reset,save\"\n",
        "\n",
        "# Pan: It helps you pan/move the plot\n",
        "\n",
        "# Wheel Zoom: You can zoom in using the wheel of your mouse\n",
        "\n",
        "# Box Zoom: You can zoom in by creating a box on the specific area of the plot. Use the mouse, click and drag to create the box\n",
        "\n",
        "# Reset: If you want to reset the visualisation of the plot\n",
        "\n",
        "# Save: Saving the plot (entire or the part which you want) as an image file"
      ],
      "execution_count": null,
      "outputs": []
    },
    {
      "cell_type": "code",
      "metadata": {
        "id": "Gavu80R6pGBX"
      },
      "source": [
        "# Passing the arguments of our bokeh plot\n",
        "p = figure(x_axis_type=\"datetime\", tools=TOOLS,\n",
        "           plot_width=1000, title=\"SPY Candlestick\")"
      ],
      "execution_count": null,
      "outputs": []
    },
    {
      "cell_type": "code",
      "metadata": {
        "id": "0hvjGySjpIt7"
      },
      "source": [
        "from math import pi\n",
        "\n",
        "# The orientation of major tick labels can be controlled with the major_label_orientation property.\n",
        "# This property accepts the values \"horizontal\" or \"vertical\" or a floating point number that gives\n",
        "# the angle (in radians) to rotate from the horizontal.\n",
        "p.xaxis.major_label_orientation = pi/4"
      ],
      "execution_count": null,
      "outputs": []
    },
    {
      "cell_type": "code",
      "metadata": {
        "id": "T21F091wpNjq"
      },
      "source": [
        "# Alpha signifies the floating point between 0 (transparent) and 1 (opaque).\n",
        "# The line specifies the alpha for the grid lines in the plot.\n",
        "p.grid.grid_line_alpha = 0.3"
      ],
      "execution_count": null,
      "outputs": []
    },
    {
      "cell_type": "code",
      "metadata": {
        "colab": {
          "base_uri": "https://localhost:8080/",
          "height": 34
        },
        "id": "alpd_He0pRql",
        "outputId": "b7486a61-673d-4d9d-e674-a6cfc9294f69"
      },
      "source": [
        "# Configure and add segment glyphs to the figure\n",
        "p.segment(df2.index, df2.High, df2.index, df2.Low, color=\"red\")"
      ],
      "execution_count": null,
      "outputs": [
        {
          "output_type": "execute_result",
          "data": {
            "text/html": [
              "<div style=\"display: table;\"><div style=\"display: table-row;\"><div style=\"display: table-cell;\"><b title=\"bokeh.models.renderers.GlyphRenderer\">GlyphRenderer</b>(</div><div style=\"display: table-cell;\">id&nbsp;=&nbsp;'1036', <span id=\"1039\" style=\"cursor: pointer;\">&hellip;)</span></div></div><div class=\"1038\" style=\"display: none;\"><div style=\"display: table-cell;\"></div><div style=\"display: table-cell;\">data_source&nbsp;=&nbsp;ColumnDataSource(id='1033', ...),</div></div><div class=\"1038\" style=\"display: none;\"><div style=\"display: table-cell;\"></div><div style=\"display: table-cell;\">glyph&nbsp;=&nbsp;Segment(id='1034', ...),</div></div><div class=\"1038\" style=\"display: none;\"><div style=\"display: table-cell;\"></div><div style=\"display: table-cell;\">hover_glyph&nbsp;=&nbsp;None,</div></div><div class=\"1038\" style=\"display: none;\"><div style=\"display: table-cell;\"></div><div style=\"display: table-cell;\">js_event_callbacks&nbsp;=&nbsp;{},</div></div><div class=\"1038\" style=\"display: none;\"><div style=\"display: table-cell;\"></div><div style=\"display: table-cell;\">js_property_callbacks&nbsp;=&nbsp;{},</div></div><div class=\"1038\" style=\"display: none;\"><div style=\"display: table-cell;\"></div><div style=\"display: table-cell;\">level&nbsp;=&nbsp;'glyph',</div></div><div class=\"1038\" style=\"display: none;\"><div style=\"display: table-cell;\"></div><div style=\"display: table-cell;\">muted&nbsp;=&nbsp;False,</div></div><div class=\"1038\" style=\"display: none;\"><div style=\"display: table-cell;\"></div><div style=\"display: table-cell;\">muted_glyph&nbsp;=&nbsp;None,</div></div><div class=\"1038\" style=\"display: none;\"><div style=\"display: table-cell;\"></div><div style=\"display: table-cell;\">name&nbsp;=&nbsp;None,</div></div><div class=\"1038\" style=\"display: none;\"><div style=\"display: table-cell;\"></div><div style=\"display: table-cell;\">nonselection_glyph&nbsp;=&nbsp;Segment(id='1035', ...),</div></div><div class=\"1038\" style=\"display: none;\"><div style=\"display: table-cell;\"></div><div style=\"display: table-cell;\">selection_glyph&nbsp;=&nbsp;'auto',</div></div><div class=\"1038\" style=\"display: none;\"><div style=\"display: table-cell;\"></div><div style=\"display: table-cell;\">subscribed_events&nbsp;=&nbsp;[],</div></div><div class=\"1038\" style=\"display: none;\"><div style=\"display: table-cell;\"></div><div style=\"display: table-cell;\">syncable&nbsp;=&nbsp;True,</div></div><div class=\"1038\" style=\"display: none;\"><div style=\"display: table-cell;\"></div><div style=\"display: table-cell;\">tags&nbsp;=&nbsp;[],</div></div><div class=\"1038\" style=\"display: none;\"><div style=\"display: table-cell;\"></div><div style=\"display: table-cell;\">view&nbsp;=&nbsp;CDSView(id='1037', ...),</div></div><div class=\"1038\" style=\"display: none;\"><div style=\"display: table-cell;\"></div><div style=\"display: table-cell;\">visible&nbsp;=&nbsp;True,</div></div><div class=\"1038\" style=\"display: none;\"><div style=\"display: table-cell;\"></div><div style=\"display: table-cell;\">x_range_name&nbsp;=&nbsp;'default',</div></div><div class=\"1038\" style=\"display: none;\"><div style=\"display: table-cell;\"></div><div style=\"display: table-cell;\">y_range_name&nbsp;=&nbsp;'default')</div></div></div>\n",
              "<script>\n",
              "(function() {\n",
              "  var expanded = false;\n",
              "  var ellipsis = document.getElementById(\"1039\");\n",
              "  ellipsis.addEventListener(\"click\", function() {\n",
              "    var rows = document.getElementsByClassName(\"1038\");\n",
              "    for (var i = 0; i < rows.length; i++) {\n",
              "      var el = rows[i];\n",
              "      el.style.display = expanded ? \"none\" : \"table-row\";\n",
              "    }\n",
              "    ellipsis.innerHTML = expanded ? \"&hellip;)\" : \"&lsaquo;&lsaquo;&lsaquo;\";\n",
              "    expanded = !expanded;\n",
              "  });\n",
              "})();\n",
              "</script>\n"
            ],
            "text/plain": [
              "GlyphRenderer(id='1036', ...)"
            ]
          },
          "metadata": {
            "tags": []
          },
          "execution_count": 36
        }
      ]
    },
    {
      "cell_type": "code",
      "metadata": {
        "colab": {
          "base_uri": "https://localhost:8080/",
          "height": 34
        },
        "id": "7pLyrK5kpZSI",
        "outputId": "a9388247-3757-472c-9418-89bb4862bbb7"
      },
      "source": [
        "# Adds vbar glyphs to the Figure\n",
        "p.vbar(df.index[inc], w, df.Open[inc], df.Close[inc],\n",
        "       fill_color=\"#1ED837\", line_color=\"black\")\n",
        "p.vbar(df.index[dec], w, df.Open[dec], df.Close[dec],\n",
        "       fill_color=\"#F2583E\", line_color=\"black\")"
      ],
      "execution_count": null,
      "outputs": [
        {
          "output_type": "execute_result",
          "data": {
            "text/html": [
              "<div style=\"display: table;\"><div style=\"display: table-row;\"><div style=\"display: table-cell;\"><b title=\"bokeh.models.renderers.GlyphRenderer\">GlyphRenderer</b>(</div><div style=\"display: table-cell;\">id&nbsp;=&nbsp;'1048', <span id=\"1051\" style=\"cursor: pointer;\">&hellip;)</span></div></div><div class=\"1050\" style=\"display: none;\"><div style=\"display: table-cell;\"></div><div style=\"display: table-cell;\">data_source&nbsp;=&nbsp;ColumnDataSource(id='1045', ...),</div></div><div class=\"1050\" style=\"display: none;\"><div style=\"display: table-cell;\"></div><div style=\"display: table-cell;\">glyph&nbsp;=&nbsp;VBar(id='1046', ...),</div></div><div class=\"1050\" style=\"display: none;\"><div style=\"display: table-cell;\"></div><div style=\"display: table-cell;\">hover_glyph&nbsp;=&nbsp;None,</div></div><div class=\"1050\" style=\"display: none;\"><div style=\"display: table-cell;\"></div><div style=\"display: table-cell;\">js_event_callbacks&nbsp;=&nbsp;{},</div></div><div class=\"1050\" style=\"display: none;\"><div style=\"display: table-cell;\"></div><div style=\"display: table-cell;\">js_property_callbacks&nbsp;=&nbsp;{},</div></div><div class=\"1050\" style=\"display: none;\"><div style=\"display: table-cell;\"></div><div style=\"display: table-cell;\">level&nbsp;=&nbsp;'glyph',</div></div><div class=\"1050\" style=\"display: none;\"><div style=\"display: table-cell;\"></div><div style=\"display: table-cell;\">muted&nbsp;=&nbsp;False,</div></div><div class=\"1050\" style=\"display: none;\"><div style=\"display: table-cell;\"></div><div style=\"display: table-cell;\">muted_glyph&nbsp;=&nbsp;None,</div></div><div class=\"1050\" style=\"display: none;\"><div style=\"display: table-cell;\"></div><div style=\"display: table-cell;\">name&nbsp;=&nbsp;None,</div></div><div class=\"1050\" style=\"display: none;\"><div style=\"display: table-cell;\"></div><div style=\"display: table-cell;\">nonselection_glyph&nbsp;=&nbsp;VBar(id='1047', ...),</div></div><div class=\"1050\" style=\"display: none;\"><div style=\"display: table-cell;\"></div><div style=\"display: table-cell;\">selection_glyph&nbsp;=&nbsp;'auto',</div></div><div class=\"1050\" style=\"display: none;\"><div style=\"display: table-cell;\"></div><div style=\"display: table-cell;\">subscribed_events&nbsp;=&nbsp;[],</div></div><div class=\"1050\" style=\"display: none;\"><div style=\"display: table-cell;\"></div><div style=\"display: table-cell;\">syncable&nbsp;=&nbsp;True,</div></div><div class=\"1050\" style=\"display: none;\"><div style=\"display: table-cell;\"></div><div style=\"display: table-cell;\">tags&nbsp;=&nbsp;[],</div></div><div class=\"1050\" style=\"display: none;\"><div style=\"display: table-cell;\"></div><div style=\"display: table-cell;\">view&nbsp;=&nbsp;CDSView(id='1049', ...),</div></div><div class=\"1050\" style=\"display: none;\"><div style=\"display: table-cell;\"></div><div style=\"display: table-cell;\">visible&nbsp;=&nbsp;True,</div></div><div class=\"1050\" style=\"display: none;\"><div style=\"display: table-cell;\"></div><div style=\"display: table-cell;\">x_range_name&nbsp;=&nbsp;'default',</div></div><div class=\"1050\" style=\"display: none;\"><div style=\"display: table-cell;\"></div><div style=\"display: table-cell;\">y_range_name&nbsp;=&nbsp;'default')</div></div></div>\n",
              "<script>\n",
              "(function() {\n",
              "  var expanded = false;\n",
              "  var ellipsis = document.getElementById(\"1051\");\n",
              "  ellipsis.addEventListener(\"click\", function() {\n",
              "    var rows = document.getElementsByClassName(\"1050\");\n",
              "    for (var i = 0; i < rows.length; i++) {\n",
              "      var el = rows[i];\n",
              "      el.style.display = expanded ? \"none\" : \"table-row\";\n",
              "    }\n",
              "    ellipsis.innerHTML = expanded ? \"&hellip;)\" : \"&lsaquo;&lsaquo;&lsaquo;\";\n",
              "    expanded = !expanded;\n",
              "  });\n",
              "})();\n",
              "</script>\n"
            ],
            "text/plain": [
              "GlyphRenderer(id='1048', ...)"
            ]
          },
          "metadata": {
            "tags": []
          },
          "execution_count": 37
        }
      ]
    },
    {
      "cell_type": "code",
      "metadata": {
        "id": "FHomtIdfpc_4"
      },
      "source": [
        "# Generates simple standalone HTML documents for Bokeh visualization\n",
        "output_file(\"candlestick.html\", title=\"candlestick.py example\")"
      ],
      "execution_count": null,
      "outputs": []
    },
    {
      "cell_type": "code",
      "metadata": {
        "id": "bP-32bM8ph5f"
      },
      "source": [
        "# The graph will open in another tab of the browser\n",
        "\n",
        "show(p)\n",
        "\n",
        "# The code ends here"
      ],
      "execution_count": null,
      "outputs": []
    },
    {
      "cell_type": "code",
      "metadata": {
        "colab": {
          "base_uri": "https://localhost:8080/",
          "height": 231
        },
        "id": "EhXKLKf3pmbr",
        "outputId": "e80fcba4-6e7c-4306-dc3b-107041ba6aac"
      },
      "source": [
        "from IPython.display import HTML\n",
        "HTML(\"./candlestick.html\")"
      ],
      "execution_count": null,
      "outputs": [
        {
          "output_type": "execute_result",
          "data": {
            "text/html": [
              "\n",
              "\n",
              "\n",
              "\n",
              "<!DOCTYPE html>\n",
              "<html lang=\"en\">\n",
              "  \n",
              "  <head>\n",
              "    \n",
              "      <meta charset=\"utf-8\">\n",
              "      <title>candlestick.py example</title>\n",
              "      \n",
              "      \n",
              "        \n",
              "          \n",
              "        \n",
              "        \n",
              "          \n",
              "        <script type=\"text/javascript\" src=\"https://cdn.bokeh.org/bokeh/release/bokeh-2.3.2.min.js\" integrity=\"sha384-XypntL49z55iwGVUW4qsEu83zKL3XEcz0MjuGOQ9SlaaQ68X/g+k1FcioZi7oQAc\" crossorigin=\"anonymous\"></script>\n",
              "        <script type=\"text/javascript\">\n",
              "            Bokeh.set_log_level(\"info\");\n",
              "        </script>\n",
              "        \n",
              "      \n",
              "      \n",
              "    \n",
              "  </head>\n",
              "  \n",
              "  \n",
              "  <body>\n",
              "    \n",
              "      \n",
              "        \n",
              "          \n",
              "          \n",
              "            \n",
              "              <div class=\"bk-root\" id=\"7ccbd609-fd64-4a40-8a88-02e3ead15259\" data-root-id=\"1002\"></div>\n",
              "            \n",
              "          \n",
              "        \n",
              "      \n",
              "      \n",
              "        <script type=\"application/json\" id=\"1312\">\n",
              "          {\"ef53a1d9-f3e2-47d6-85ab-aba886cf023a\":{\"defs\":[],\"roots\":{\"references\":[{\"attributes\":{},\"id\":\"1076\",\"type\":\"Selection\"},{\"attributes\":{\"below\":[{\"id\":\"1013\"}],\"center\":[{\"id\":\"1016\"},{\"id\":\"1020\"}],\"left\":[{\"id\":\"1017\"}],\"renderers\":[{\"id\":\"1036\"},{\"id\":\"1043\"},{\"id\":\"1048\"}],\"title\":{\"id\":\"1003\"},\"toolbar\":{\"id\":\"1027\"},\"width\":1000,\"x_range\":{\"id\":\"1005\"},\"x_scale\":{\"id\":\"1009\"},\"y_range\":{\"id\":\"1007\"},\"y_scale\":{\"id\":\"1011\"}},\"id\":\"1002\",\"subtype\":\"Figure\",\"type\":\"Plot\"},{\"attributes\":{\"overlay\":{\"id\":\"1026\"}},\"id\":\"1023\",\"type\":\"BoxZoomTool\"},{\"attributes\":{\"days\":[1,8,15,22]},\"id\":\"1065\",\"type\":\"DaysTicker\"},{\"attributes\":{\"formatter\":{\"id\":\"1058\"},\"major_label_orientation\":0.7853981633974483,\"major_label_policy\":{\"id\":\"1056\"},\"ticker\":{\"id\":\"1014\"}},\"id\":\"1013\",\"type\":\"DatetimeAxis\"},{\"attributes\":{\"num_minor_ticks\":5,\"tickers\":[{\"id\":\"1060\"},{\"id\":\"1061\"},{\"id\":\"1062\"},{\"id\":\"1063\"},{\"id\":\"1064\"},{\"id\":\"1065\"},{\"id\":\"1066\"},{\"id\":\"1067\"},{\"id\":\"1068\"},{\"id\":\"1069\"},{\"id\":\"1070\"},{\"id\":\"1071\"}]},\"id\":\"1014\",\"type\":\"DatetimeTicker\"},{\"attributes\":{\"source\":{\"id\":\"1040\"}},\"id\":\"1044\",\"type\":\"CDSView\"},{\"attributes\":{\"months\":[0,2,4,6,8,10]},\"id\":\"1068\",\"type\":\"MonthsTicker\"},{\"attributes\":{},\"id\":\"1025\",\"type\":\"SaveTool\"},{\"attributes\":{\"data\":{\"bottom\":{\"__ndarray__\":\"4BXB/9Y9i0CHqwMgrk+MQIm6D0AK+YxAAg8MIFwhjUBzJ9h/PQaNQHdF8L/1vIxAZ9DQP+EmjkB1NuSfmTeOQO571F+PhI5A/vDz36OujUAQdR+AFLaNQHMn2H89Xo1AiboPQAq1jUAOZhNguOiNQCDqPgApwo1A/vDz36P6jEB5VPzfUa6MQOAVwf/WZYxAdTbkn5kVjEACDwwgXMuNQOxsyD8zQY5AdTbkn5m1jUCLyRtgZp6NQA5mE2C4MI1AAAAAAAAUjUD+8PPfoxaNQOxsyD8z3YxAeVT831H2jEDwiuB/61mMQI3YJ4DC0YxA4BXB/9Z3jEDymeyfR1WMQHMn2H89yoxAmS8vwB6fjECbPjvgeo6MQA5mE2C4So1AdTbkn5kDjUCbPjvgev6MQAAAAAAA9IxA/vDz36MIjUDue9RfjyCNQGfQ0D/h6IxAeVT831HCjEAAAAAAAJiMQHU25J+ZI41AjdgngMLHjEAg6j4AKcqNQBKEK6BwvY1AAAAAAACIjkAUkzfAzGSOQBKEK6Bw7Y5AAAAAAAAAj0B1NuSfmcOOQHU25J+Z4Y5AdTbkn5lDjkCbPjvgemSOQHY25J+ZB5BAiLoPQAodkEAOZhNguNiPQIm6D0AK049A/vDz36NdkEDymeyfR+2PQPKZ7J9H649AAg8MIFyRj0AShCugcDWPQMqIC0AzNJBANGjon3BCkEAOZhNguLqQQDZ39L/Mo5BARN0HIIWekEC8IvjfepCQQHhF8L/1gpBAvCL433plkEDMlxdgj2CQQHY25J+ZWZBAdjbkn5n5kECIug9ACkmRQBB1H4AURpFAiLoPQAqHkUBCzvv/KKeRQHhF8L/1MJJAvCL433pJkkB6VPzfUV6SQK685H/CLpJArrzkf8JHkkB2NuSfmV+RQMqIC0Azf5BAelT831FikEAg6j4AKUyPQETdByCFSpFAQs77/yh5kUDwiuB/60KRQBB1H4AUtpBAUkMbgD0ckUCGqwMgrsiRQHpU/N9R9pFA8Irgf+u+kUDymeyfRy+RQL4xBADXJpFARN0HIIULkUB6VPzfUWSQQO571F+P7I9AFJM3wMxoj0CN2CeAwnOPQPKZ7J9Hq49AUkMbgD0PkEB5VPzfUXiPQHU25J+Zu49AjdgngMLfj0AQdR+AFBWQQHpU/N9RwJBAvjEEANfDkEA=\",\"dtype\":\"float64\",\"order\":\"little\",\"shape\":[112]},\"top\":{\"__ndarray__\":\"4BXB/9ZRi0DymeyfR3WMQHlU/N9RLI1AdTbkn5lHjUDgFcH/1h+NQAIPDCBcPY1AIOo+ACl4jkB1NuSfmUeOQPKZ7J9HuY5AAAAAAADEjkACDwwgXP+NQAAAAAAAYI1AIOo+ACnsjUB1NuSfmfWNQOxsyD8zT45Ah6sDIK5zjUACDwwgXA+NQIvJG2Bm8IxAEoQroHCBjEAAAAAAAOiNQAAAAAAAeI5Amz474HrOjUAShCugcNWNQHMn2H89vo1AmS8vwB5vjUCJug9ACiONQA5mE2C4Eo1ADmYTYLj4jECLyRtgZqyMQOAVwf/W4YxAcyfYfz3ujEAAAAAAAHCMQPKZ7J9HBY1A8Irgf+vbjEAAAAAAAKCMQIm6D0AKaY1A/vDz36MojUDsbMg/MxGNQPCK4H/rQ41AAAAAAAAyjUAOZhNguCSNQAAAAAAAGo1A8pnsn0fljEAQdR+AFMCMQAAAAAAAKI1AdTbkn5nrjEDgFcH/1v+NQAAAAAAA6I1AAAAAAACgjkAAAAAAAKCOQAAAAAAAAI9AFJM3wMwAj0AAAAAAANCOQGXBxB+F645AIOo+ACnsjkAAAAAAAKCOQHhF8L/1E5BAeEXwv/UnkECIug9ACiiQQBB1H4AU4o9AAg8MIFx8kEAOZhNguEqQQHdF8L/18o9Ai8kbYGa+j0DymeyfR6WPQHhF8L/1NZBAvCL433pYkEA2d/S/zMyQQLoT7L8ev5BANnf0v8yjkEA0aOifcJSQQPKZ7J9HiJBAzJcXYI+FkECKyRtgZm6QQEbsE0DhWpBAAAAAAAAAkUB2NuSfmVWRQMqIC0AzSZFAiLoPQAqykUD+8PPfo62RQHpU/N9RZZJAuhPsvx5SkkDwiuB/62GSQHpU/N9RP5JA8pnsn0dKkkAAAAAAAIiRQIrJG2BmCpFAQs77/yjmkED+8PPfo32QQK685H/CcJFAeEXwv/XUkUC6E+y/HoyRQLwi+N96T5FARuwTQOEskUAAAAAAAEiSQL4xBADX95FAzJcXYI8IkkCIug9ACoCRQAAAAAAALJFAeEXwv/USkUBE3QcgheeQQLoT7L8eXJBAAAAAAACckEDue9Rfj/aPQPKZ7J9Hr49AelT831FFkEAAAAAAAOCPQIvJG2Bmxo9AeEXwv/UPkEBE3QcghUOQQA5mE2C41ZBAAAAAAADokEA=\",\"dtype\":\"float64\",\"order\":\"little\",\"shape\":[112]},\"x\":{\"__ndarray__\":\"AACA63i6dUIAAAC3Hbt1QgAAQH9evXVCAABAFqi+dUIAAAB8+r51QgAAQEQ7wXVCAADA1LzFdUIAAIA6D8Z1QgAAQDerx3VCAACAaKLIdUIAAEBlPsp1QgAAwDDjynVCAADAxyzMdUIAAECT0cx1QgAAQCobznVCAAAAkG3OdUIAAIBbEs91QgAAQMFkz3VCAACA8lvQdUIAAACD3dR1QgAAQLTU1XVCAAAAsXDXdUIAAMAWw9d1QgAAgHwV2HVCAACAE1/ZdUIAAEB5sdl1QgAAwERW2nVCAACAQfLbdUIAAAANl9x1QgAAwAkz3nVCAABA1dfedUIAAEBsIeB1QgAAgJ0Y4XVCAABAA2vhdUIAAIA0YuJ1QgAAgMur43VCAACAYvXkdUIAAEDIR+V1QgAAwJPs5XVCAAAAxePmdUIAAMAqNud1QgAAQPba53VCAAAAXC3odUIAAECNJOl1QgAAgL4b6nVCAACAVWXrdUIAAMAdpu11QgAAQOlK7nVCAAAA5ubvdUIAAMBLOfB1QgAAAH0w8XVCAABArifydUIAAIDfHvN1QgAAQEVx83VCAACAdmj0dUIAAMCnX/V1QgAAAAfq+HVCAABAOOH5dUIAAEBmdPx1QgAAgJdr/XVCAACAxf7/dUIAAEArUQB2QgAAAJGjAHZCAADA9vUAdkIAAAAo7QF2QgAAAL82A3ZCAADAu9IEdkIAAEAewQZ2QgAAAIQTB3ZCAADA6WUHdkIAAIBPuAd2QgAAgOYBCXZCAABATFQJdkIAAACypgl2QgAAwBf5CXZCAABAeucLdkIAAAB3gw12QgAAgEIoDnZCAABAP8QPdkIAAMAKaRB2QgAAQG1XEnZCAAAA06kSdkIAAABq8xN2QgAAwM9FFHZCAACANZgUdkIAAAABPRV2QgAAQDI0FnZCAADA/dgWdkIAAIBjKxd2QgAAAPSsG3ZCAADA8EgddkIAAIBWmx12QgAAQLztHXZCAAAAuYkfdkIAAECByiF2QgAAwExvInZCAACAssEidkIAAMDjuCN2QgAAgEkLJHZCAABAr10kdkIAAAAVsCR2QgAAwHoCJXZCAADAEUwmdkIAAEB0Oih2QgAAANqMKHZCAACApTEpdkIAAEALhCl2QgAAgDx7KnZCAAAACCArdkIAAIDTxCt2QgAAQNBgLXZCAADAmwUudkI=\",\"dtype\":\"float64\",\"order\":\"little\",\"shape\":[112]}},\"selected\":{\"id\":\"1076\"},\"selection_policy\":{\"id\":\"1077\"}},\"id\":\"1045\",\"type\":\"ColumnDataSource\"},{\"attributes\":{},\"id\":\"1071\",\"type\":\"YearsTicker\"},{\"attributes\":{},\"id\":\"1005\",\"type\":\"DataRange1d\"},{\"attributes\":{\"source\":{\"id\":\"1033\"}},\"id\":\"1037\",\"type\":\"CDSView\"},{\"attributes\":{},\"id\":\"1072\",\"type\":\"Selection\"},{\"attributes\":{\"formatter\":{\"id\":\"1055\"},\"major_label_policy\":{\"id\":\"1053\"},\"ticker\":{\"id\":\"1018\"}},\"id\":\"1017\",\"type\":\"LinearAxis\"},{\"attributes\":{\"line_alpha\":{\"value\":0.1},\"line_color\":{\"value\":\"red\"},\"x0\":{\"field\":\"x0\"},\"x1\":{\"field\":\"x1\"},\"y0\":{\"field\":\"y0\"},\"y1\":{\"field\":\"y1\"}},\"id\":\"1035\",\"type\":\"Segment\"},{\"attributes\":{\"bottom_units\":\"screen\",\"fill_alpha\":0.5,\"fill_color\":\"lightgrey\",\"left_units\":\"screen\",\"level\":\"overlay\",\"line_alpha\":1.0,\"line_color\":\"black\",\"line_dash\":[4,4],\"line_width\":2,\"right_units\":\"screen\",\"syncable\":false,\"top_units\":\"screen\"},\"id\":\"1026\",\"type\":\"BoxAnnotation\"},{\"attributes\":{\"axis\":{\"id\":\"1017\"},\"dimension\":1,\"grid_line_alpha\":0.3,\"ticker\":null},\"id\":\"1020\",\"type\":\"Grid\"},{\"attributes\":{\"bottom\":{\"field\":\"bottom\"},\"fill_color\":{\"value\":\"#1ED837\"},\"top\":{\"field\":\"top\"},\"width\":{\"value\":43200000},\"x\":{\"field\":\"x\"}},\"id\":\"1041\",\"type\":\"VBar\"},{\"attributes\":{\"days\":[1,15]},\"id\":\"1066\",\"type\":\"DaysTicker\"},{\"attributes\":{\"data_source\":{\"id\":\"1033\"},\"glyph\":{\"id\":\"1034\"},\"hover_glyph\":null,\"muted_glyph\":null,\"nonselection_glyph\":{\"id\":\"1035\"},\"view\":{\"id\":\"1037\"}},\"id\":\"1036\",\"type\":\"GlyphRenderer\"},{\"attributes\":{},\"id\":\"1022\",\"type\":\"WheelZoomTool\"},{\"attributes\":{\"bottom\":{\"field\":\"bottom\"},\"fill_color\":{\"value\":\"#F2583E\"},\"top\":{\"field\":\"top\"},\"width\":{\"value\":43200000},\"x\":{\"field\":\"x\"}},\"id\":\"1046\",\"type\":\"VBar\"},{\"attributes\":{\"days\":[1,4,7,10,13,16,19,22,25,28]},\"id\":\"1064\",\"type\":\"DaysTicker\"},{\"attributes\":{\"bottom\":{\"field\":\"bottom\"},\"fill_alpha\":{\"value\":0.1},\"fill_color\":{\"value\":\"#1ED837\"},\"line_alpha\":{\"value\":0.1},\"top\":{\"field\":\"top\"},\"width\":{\"value\":43200000},\"x\":{\"field\":\"x\"}},\"id\":\"1042\",\"type\":\"VBar\"},{\"attributes\":{\"months\":[0,1,2,3,4,5,6,7,8,9,10,11]},\"id\":\"1067\",\"type\":\"MonthsTicker\"},{\"attributes\":{\"source\":{\"id\":\"1045\"}},\"id\":\"1049\",\"type\":\"CDSView\"},{\"attributes\":{\"months\":[0,6]},\"id\":\"1070\",\"type\":\"MonthsTicker\"},{\"attributes\":{},\"id\":\"1056\",\"type\":\"AllLabels\"},{\"attributes\":{\"base\":24,\"mantissas\":[1,2,4,6,8,12],\"max_interval\":43200000.0,\"min_interval\":3600000.0,\"num_minor_ticks\":0},\"id\":\"1062\",\"type\":\"AdaptiveTicker\"},{\"attributes\":{},\"id\":\"1073\",\"type\":\"UnionRenderers\"},{\"attributes\":{},\"id\":\"1007\",\"type\":\"DataRange1d\"},{\"attributes\":{},\"id\":\"1075\",\"type\":\"UnionRenderers\"},{\"attributes\":{},\"id\":\"1058\",\"type\":\"DatetimeTickFormatter\"},{\"attributes\":{\"data\":{\"x0\":{\"__ndarray__\":\"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\",\"dtype\":\"float64\",\"order\":\"little\",\"shape\":[251]},\"x1\":{\"__ndarray__\":\"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\",\"dtype\":\"float64\",\"order\":\"little\",\"shape\":[251]},\"y0\":{\"__ndarray__\":\"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\",\"dtype\":\"float64\",\"order\":\"little\",\"shape\":[251]},\"y1\":{\"__ndarray__\":\"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\",\"dtype\":\"float64\",\"order\":\"little\",\"shape\":[251]}},\"selected\":{\"id\":\"1072\"},\"selection_policy\":{\"id\":\"1073\"}},\"id\":\"1033\",\"type\":\"ColumnDataSource\"},{\"attributes\":{\"axis\":{\"id\":\"1013\"},\"grid_line_alpha\":0.3,\"ticker\":null},\"id\":\"1016\",\"type\":\"Grid\"},{\"attributes\":{},\"id\":\"1009\",\"type\":\"LinearScale\"},{\"attributes\":{},\"id\":\"1055\",\"type\":\"BasicTickFormatter\"},{\"attributes\":{},\"id\":\"1024\",\"type\":\"ResetTool\"},{\"attributes\":{},\"id\":\"1074\",\"type\":\"Selection\"},{\"attributes\":{\"base\":60,\"mantissas\":[1,2,5,10,15,20,30],\"max_interval\":1800000.0,\"min_interval\":1000.0,\"num_minor_ticks\":0},\"id\":\"1061\",\"type\":\"AdaptiveTicker\"},{\"attributes\":{},\"id\":\"1011\",\"type\":\"LinearScale\"},{\"attributes\":{},\"id\":\"1021\",\"type\":\"PanTool\"},{\"attributes\":{\"mantissas\":[1,2,5],\"max_interval\":500.0,\"num_minor_ticks\":0},\"id\":\"1060\",\"type\":\"AdaptiveTicker\"},{\"attributes\":{},\"id\":\"1053\",\"type\":\"AllLabels\"},{\"attributes\":{\"data_source\":{\"id\":\"1040\"},\"glyph\":{\"id\":\"1041\"},\"hover_glyph\":null,\"muted_glyph\":null,\"nonselection_glyph\":{\"id\":\"1042\"},\"view\":{\"id\":\"1044\"}},\"id\":\"1043\",\"type\":\"GlyphRenderer\"},{\"attributes\":{\"data\":{\"bottom\":{\"__ndarray__\":\"EHUfgBT2ikCLyRtgZkKLQAAAAAAAUotA7nvUX4+EjEBlwcQfhaOMQHlU/N9R+IxA8pnsn0cdjUCLyRtgZjKNQBSTN8DMFI1AjdgngMIhjUD+8PPfo0iNQAAAAAAAeI1A8Irgf+sRjUAQdR+AFDCNQGfQ0D/hbo1A7nvUX4+mjUCHqwMgrteNQHlU/N9RTI5AjdgngMJbjkCJug9ACn+OQBSTN8DMfI5AEoQroHC9jkBlwcQfhaeOQPKZ7J9Hu45A7GzIPzN3jUDsbMg/M8uNQJs+O+B6co1Ad0Xwv/XqjUB1NuSfmfuNQA5mE2C4LI5A8Irgf+tjjUCHqwMgrn2MQGXBxB+FVYxADmYTYLi0jECLyRtgZgaNQA5mE2C4EI1A/vDz36N+jUDymeyfR5mNQPCK4H/r341A7GzIPzMrjkCZLy/AHleOQAIPDCBcZ45ADmYTYLiijkBzJ9h/PWyNQJkvL8AeE41Ah6sDIK7/jEBn0NA/4QqNQOxsyD8z14xAmS8vwB6TjEACDwwgXNWMQIerAyCu94xAAg8MIFx1jEBlwcQfheWMQAAAAAAA+IxAeVT831HKjEDue9RfjwyNQP7w89+jWo1AdTbkn5k/jUAOZhNguDiNQJs+O+B6zoxA/vDz36McjUBzJ9h/PQSNQGfQ0D/h5oxA8Irgf+uDjUAAAAAAAKyNQGfQ0D/h+I1AeVT831HujUCHqwMgrk+OQJkvL8Ael45AAAAAAADqjkD+8PPfo96OQBKEK6BwAY9Amz474HoGj0B5VPzfUVSOQP7w89+jao5AIOo+ACnaj0Bn0NA/4ciPQJkvL8AexY9AAAAAAAAGkEB6VPzfUQaQQPCK4H/rIZBAelT831ElkECKyRtgZj+QQPKZ7J9HEJBAAAAAAAAHkEAAAAAAAAiQQPKZ7J9H549AAAAAAAAikEB4RfC/9SmQQL4xBADXL5BANGjon3BCkEC+MQQA13iQQOxsyD8zaY9AiboPQArTj0AOZhNguBuQQIrJG2BmRJBA8Irgf+tBkEB2NuSfmWSQQK685H/CoJBAzJcXYI/UkEAAAAAAAKSQQPCK4H/r6ZBA8Irgf+s4kUCuvOR/wkuRQDRo6J9wOpFAiLoPQAqJkUDwiuB/66+RQIi6D0AKxpFAUkMbgD0PkkBG7BNA4UeSQAIPDCBcX5JANnf0v8w+kkCKyRtgZuKQQLoT7L8eN5BArrzkf8JvkECKyRtgZnCQQDZ39L/MtpBAEHUfgBQGkUDKiAtAMxuRQL4xBADXOZFAAg8MIFxdkUBCzvv/KJuRQAAAAAAA35FAhqsDIK7bkEAOZhNguAuRQMyXF2CPVpFAAAAAAACYkUBCzvv/KCCSQAAAAAAAMpJAeEXwv/X1kUC+MQQA13SQQJs+O+B6ZI9AQs77/ygfkEDMlxdgjwSQQMyXF2CPHpBAiLoPQAoikEDwiuB/6zeQQP7w89+jyJBANnf0v8z+kEA=\",\"dtype\":\"float64\",\"order\":\"little\",\"shape\":[139]},\"top\":{\"__ndarray__\":\"dTbkn5mZikAAAAAAAAiLQBSTN8DMTItAZcHEH4UvjEB3RfC/9WyMQGfQ0D/hloxA7nvUX4/wjEB3RfC/9fCMQO571F+P6oxAcyfYfz0cjUB1NuSfmSeNQAAAAAAAYI1AAAAAAADIjECN2CeAwhuNQAAAAAAAOI1AAg8MIFyfjUDgFcH/1seNQP7w89+j6o1AdTbkn5lNjkCbPjvgelKOQIerAyCuS45Ai8kbYGaEjkAAAAAAAKCOQBSTN8DMso5Amz474HpcjUDymeyfR7+NQI3YJ4DCL41Ah6sDIK6vjUCZLy/AHs2NQP7w89+j5o1AAAAAAAAIjUAQdR+AFC6MQHdF8L/1QIxAFJM3wMxmjEAg6j4AKc6MQHlU/N9RDI1AEoQroHBVjUB5VPzfUZKNQAAAAAAAwI1AAAAAAADIjUAOZhNguD6OQAAAAAAAEo5AjdgngMJhjkDsbMg/MwuNQGfQ0D/hBI1AAAAAAAD2jECbPjvgegiNQGfQ0D/hxIxAjdgngMJfjEBzJ9h/PdSMQHlU/N9R6oxAmz474HpyjECN2CeAwoWMQBKEK6Bwz4xAFJM3wMxIjECLyRtgZsCMQBB1H4AUHo1A4BXB/9YdjUDymeyfRxWNQAIPDCBcq4xA4BXB/9bXjEAAAAAAAP6MQI3YJ4DC3YxA8Irgf+v9jEBn0NA/4WqNQAAAAAAAwI1AAAAAAADQjUDwiuB/69uNQHU25J+ZNY5AjdgngMJtjkB1NuSfmduOQHlU/N9R8o5AIOo+ACn+jkAAAAAAAFCOQHdF8L/1Qo5AZcHEH4WJj0AAAAAAALCPQI3YJ4DCuY9Ah6sDIK7Jj0AQdR+AFO6PQGfQ0D/h8I9AEHUfgBQNkEAQdR+AFBqQQL4xBADXCZBAAg8MIFz7j0AOZhNguPSPQIerAyCu2Y9AIOo+ACn0j0CbPjvgevqPQAAAAAAALJBAvCL433ovkEAAAAAAAECQQGXBxB+FH49AAAAAAABMj0AShCugcOOPQAAAAAAALpBARN0HIIU+kEAAAAAAAFSQQDRo6J9wepBAelT831GokEACDwwgXGGQQFJDG4A9oZBAAAAAAAAYkUDwiuB/6ziRQIrJG2BmJJFA/vDz36M5kUBG7BNA4ZiRQHpU/N9Rr5FAeEXwv/XFkUCKyRtgZh+SQHpU/N9RXJJANGjon3AqkkAOZhNguAyQQAAAAAAAyo9AAAAAAABgkEAAAAAAAFSQQDZ39L/MY5BA8pnsn0fckED+8PPfowGRQPKZ7J9HCpFARuwTQOFJkUDMlxdgj2KRQMqIC0Azn5FAelT831F0kEDMlxdgj8yQQK685H/CBJFA8pnsn0dtkUAAAAAAAMCRQIrJG2BmL5JAvjEEANfkkUAAAAAAAFiQQAAAAAAAMI9AiboPQAqdj0DymeyfRwuPQK685H/CCZBAQs77/ygEkEAAAAAAADSQQLwi+N96bZBAdjbkn5m1kEA=\",\"dtype\":\"float64\",\"order\":\"little\",\"shape\":[139]},\"x\":{\"__ndarray__\":\"AAAAINS5dUIAAMCFJrp1QgAAQFHLunVCAABA6BS8dUIAAABOZ7x1QgAAwLO5vHVCAACAGQy9dUIAAICwVb51QgAAwOFMv3VCAACAR5+/dUIAAMB4lsB1QgAAgN7owHVCAAAAqo3BdUIAAMAP4MF1QgAAAEHXwnVCAADApinDdUIAAIAMfMN1QgAAQHLOw3VCAAAA2CDEdUIAAABvasV1QgAAQKBhxnVCAACA0VjHdUIAAACd/cd1QgAAwAJQyHVCAADAmZnJdUIAAID/68l1QgAAAMuQynVCAAAAYtrLdUIAAIAtf8x1QgAAAPkjzXVCAADA9b/OdUIAAAC+ANF1QgAAwCNT0XVCAACAiaXRdUIAAMC6nNJ1QgAAgCDv0nVCAABAhkHTdUIAAADsk9N1QgAAwFHm03VCAADA6C/VdUIAAIBOgtV1QgAAABon1nVCAABASx7XdUIAAEDiZ9h1QgAAAN8D2nVCAACAqqjadUIAAMDbn9t1QgAAQKdE3HVCAADAcuncdUIAAACk4N11QgAAgG+F3nVCAAAAOyrfdUIAAADSc+B1QgAAwDfG4HVCAABAmrTidUIAAAAAB+N1QgAAwGVZ43VCAAAALprldUIAAICQiOd1QgAAAPN26XVCAADAWMnpdUIAAEAkbup1QgAAQLu363VCAAAAIQrsdUIAAMCGXOx1QgAAgOyu7HVCAACAg/jtdUIAAABPne51QgAAwLTv7nVCAACAsYvwdUIAAEAX3vB1QgAAABR68nVCAADAeczydUIAAEDcuvR1QgAAAEIN9XVCAACADbL1dUIAAMA+qfZ1QgAAgKT79nVCAABACk73dUIAAABwoPd1QgAAwNXy93VCAADAbDz5dUIAAIDSjvl1QgAAAJ4z+nVCAABAzyr7dUIAAAA1fft1QgAAwJrP+3VCAACAACL8dUIAAED9vf11QgAAAGMQ/nVCAACALrX+dUIAAMBfrP91QgAAwI0/AnZCAACA85ECdkIAAEBZ5AJ2QgAAQPAtBHZCAAAAVoAEdkIAAIAhJQV2QgAAQId3BXZCAACAuG4GdkIAAMCuQgt2QgAAgBSVC3ZCAAAA4DkMdkIAAEARMQ12QgAAwNzVDXZCAABAqHoOdkIAAAClFhB2QgAAgHC7EHZCAADAobIRdkIAAIAHBRJ2QgAAwDj8EnZCAABAm+oUdkIAAACYhhZ2QgAAQMl9F3ZCAACA+nQYdkIAAEBgxxh2QgAAAMYZGXZCAADAK2wZdkIAAICRvhl2QgAAgCgIG3ZCAABAjlobdkIAAMBZ/xt2QgAAAIv2HHZCAAAAIkAedkIAAEBTNx92QgAAwB7cH3ZCAACAhC4gdkIAAEDqgCB2QgAAgBt4IXZCAAAA5xwidkIAAACs+SV2QgAAgHeeJnZCAABA3fAmdkIAAMA/3yh2QgAAQKLNKnZCAADAbXIrdkIAAMAEvCx2QgAAgGoOLXZCAAAANrMtdkI=\",\"dtype\":\"float64\",\"order\":\"little\",\"shape\":[139]}},\"selected\":{\"id\":\"1074\"},\"selection_policy\":{\"id\":\"1075\"}},\"id\":\"1040\",\"type\":\"ColumnDataSource\"},{\"attributes\":{},\"id\":\"1077\",\"type\":\"UnionRenderers\"},{\"attributes\":{\"active_multi\":null,\"tools\":[{\"id\":\"1021\"},{\"id\":\"1022\"},{\"id\":\"1023\"},{\"id\":\"1024\"},{\"id\":\"1025\"}]},\"id\":\"1027\",\"type\":\"Toolbar\"},{\"attributes\":{\"data_source\":{\"id\":\"1045\"},\"glyph\":{\"id\":\"1046\"},\"hover_glyph\":null,\"muted_glyph\":null,\"nonselection_glyph\":{\"id\":\"1047\"},\"view\":{\"id\":\"1049\"}},\"id\":\"1048\",\"type\":\"GlyphRenderer\"},{\"attributes\":{\"text\":\"SPY Candlestick\"},\"id\":\"1003\",\"type\":\"Title\"},{\"attributes\":{\"months\":[0,4,8]},\"id\":\"1069\",\"type\":\"MonthsTicker\"},{\"attributes\":{\"line_color\":{\"value\":\"red\"},\"x0\":{\"field\":\"x0\"},\"x1\":{\"field\":\"x1\"},\"y0\":{\"field\":\"y0\"},\"y1\":{\"field\":\"y1\"}},\"id\":\"1034\",\"type\":\"Segment\"},{\"attributes\":{\"days\":[1,2,3,4,5,6,7,8,9,10,11,12,13,14,15,16,17,18,19,20,21,22,23,24,25,26,27,28,29,30,31]},\"id\":\"1063\",\"type\":\"DaysTicker\"},{\"attributes\":{\"bottom\":{\"field\":\"bottom\"},\"fill_alpha\":{\"value\":0.1},\"fill_color\":{\"value\":\"#F2583E\"},\"line_alpha\":{\"value\":0.1},\"top\":{\"field\":\"top\"},\"width\":{\"value\":43200000},\"x\":{\"field\":\"x\"}},\"id\":\"1047\",\"type\":\"VBar\"},{\"attributes\":{},\"id\":\"1018\",\"type\":\"BasicTicker\"}],\"root_ids\":[\"1002\"]},\"title\":\"Bokeh Application\",\"version\":\"2.3.2\"}}\n",
              "        </script>\n",
              "        <script type=\"text/javascript\">\n",
              "          (function() {\n",
              "            var fn = function() {\n",
              "              Bokeh.safely(function() {\n",
              "                (function(root) {\n",
              "                  function embed_document(root) {\n",
              "                    \n",
              "                  var docs_json = document.getElementById('1312').textContent;\n",
              "                  var render_items = [{\"docid\":\"ef53a1d9-f3e2-47d6-85ab-aba886cf023a\",\"root_ids\":[\"1002\"],\"roots\":{\"1002\":\"7ccbd609-fd64-4a40-8a88-02e3ead15259\"}}];\n",
              "                  root.Bokeh.embed.embed_items(docs_json, render_items);\n",
              "                \n",
              "                  }\n",
              "                  if (root.Bokeh !== undefined) {\n",
              "                    embed_document(root);\n",
              "                  } else {\n",
              "                    var attempts = 0;\n",
              "                    var timer = setInterval(function(root) {\n",
              "                      if (root.Bokeh !== undefined) {\n",
              "                        clearInterval(timer);\n",
              "                        embed_document(root);\n",
              "                      } else {\n",
              "                        attempts++;\n",
              "                        if (attempts > 100) {\n",
              "                          clearInterval(timer);\n",
              "                          console.log(\"Bokeh: ERROR: Unable to run BokehJS code because BokehJS library is missing\");\n",
              "                        }\n",
              "                      }\n",
              "                    }, 10, root)\n",
              "                  }\n",
              "                })(window);\n",
              "              });\n",
              "            };\n",
              "            if (document.readyState != \"loading\") fn();\n",
              "            else document.addEventListener(\"DOMContentLoaded\", fn);\n",
              "          })();\n",
              "        </script>\n",
              "    \n",
              "  </body>\n",
              "  \n",
              "</html>"
            ],
            "text/plain": [
              "<IPython.core.display.HTML object>"
            ]
          },
          "metadata": {
            "tags": []
          },
          "execution_count": 40
        }
      ]
    },
    {
      "cell_type": "code",
      "metadata": {
        "id": "AdRCVfYtpu9R"
      },
      "source": [
        ""
      ],
      "execution_count": null,
      "outputs": []
    }
  ]
}